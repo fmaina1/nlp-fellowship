{
  "nbformat": 4,
  "nbformat_minor": 0,
  "metadata": {
    "colab": {
      "provenance": [],
      "include_colab_link": true
    },
    "kernelspec": {
      "name": "python3",
      "display_name": "Python 3"
    },
    "language_info": {
      "name": "python"
    }
  },
  "cells": [
    {
      "cell_type": "markdown",
      "metadata": {
        "id": "view-in-github",
        "colab_type": "text"
      },
      "source": [
        "<a href=\"https://colab.research.google.com/github/fmaina1/nlp-fellowship/blob/main/Regex.ipynb\" target=\"_parent\"><img src=\"https://colab.research.google.com/assets/colab-badge.svg\" alt=\"Open In Colab\"/></a>"
      ]
    },
    {
      "cell_type": "code",
      "execution_count": null,
      "metadata": {
        "id": "E0b3smJ9Qm_h"
      },
      "outputs": [],
      "source": [
        "import re\n",
        "test_string = \"agcdhh8794AFER341\"\n",
        "pattern = re.compile(r\"dhh\")\n",
        "matches = pattern.finditer(test_string)"
      ]
    },
    {
      "cell_type": "code",
      "source": [
        "## Use raw strings for the search pattern\n",
        "x = '\\tSalut'\n",
        "y = r'\\tSalut'\n",
        "print(x)\n",
        "print(y)"
      ],
      "metadata": {
        "colab": {
          "base_uri": "https://localhost:8080/"
        },
        "id": "_KXvmhuGkUGY",
        "outputId": "765b2de2-33f5-4055-c87a-ac8b55b824dd"
      },
      "execution_count": null,
      "outputs": [
        {
          "output_type": "stream",
          "name": "stdout",
          "text": [
            "\tSalut\n",
            "\\tSalut\n"
          ]
        }
      ]
    },
    {
      "cell_type": "code",
      "source": [
        "matches = re.finditer(r\"dhh\",test_string)\n",
        "for match in matches:\n",
        "  print(match)"
      ],
      "metadata": {
        "id": "3F8vDluijadm",
        "colab": {
          "base_uri": "https://localhost:8080/"
        },
        "outputId": "07ab131f-30f0-4896-a763-e8725464c6b3"
      },
      "execution_count": null,
      "outputs": [
        {
          "output_type": "stream",
          "name": "stdout",
          "text": [
            "<re.Match object; span=(3, 6), match='dhh'>\n"
          ]
        }
      ]
    },
    {
      "cell_type": "code",
      "source": [],
      "metadata": {
        "colab": {
          "base_uri": "https://localhost:8080/"
        },
        "id": "Bbi_kdqhj14n",
        "outputId": "cc9b24be-3d0a-4273-b9ae-d9cc70218565"
      },
      "execution_count": null,
      "outputs": [
        {
          "output_type": "stream",
          "name": "stdout",
          "text": [
            "<re.Match object; span=(3, 6), match='dhh'>\n"
          ]
        }
      ]
    },
    {
      "cell_type": "code",
      "source": [],
      "metadata": {
        "id": "ZXI2ZYACj-bd"
      },
      "execution_count": null,
      "outputs": []
    },
    {
      "cell_type": "markdown",
      "source": [
        "\n",
        "## Modification methods\n",
        "\n",
        "\n",
        "1.   split(): Returns a list where the string has been split at each match\n",
        "2.   sub(): Replaces one or many matches with a string\n",
        "\n"
      ],
      "metadata": {
        "id": "tG6T41NvkqeN"
      }
    },
    {
      "cell_type": "code",
      "source": [
        "# finditer()\n",
        "first_string = 'nlp+fellowship/cohort1/2022'\n",
        "pattern = re.compile(r'fellow')\n",
        "matches = pattern.finditer(first_string)\n",
        "for match in matches:\n",
        "    print(match)\n",
        "    print(match.span(), match.start(), match.end())\n",
        "    print(match.group()) # returns the string\n",
        "print()"
      ],
      "metadata": {
        "colab": {
          "base_uri": "https://localhost:8080/"
        },
        "id": "8RzaZt8Nk1oJ",
        "outputId": "e06c703d-7c55-4173-e519-c7267707b1f1"
      },
      "execution_count": null,
      "outputs": [
        {
          "output_type": "stream",
          "name": "stdout",
          "text": [
            "<re.Match object; span=(3, 9), match='fellow'>\n",
            "(3, 9) 3 9\n",
            "fellow\n",
            "\n"
          ]
        }
      ]
    },
    {
      "cell_type": "code",
      "source": [
        "# findall()\n",
        "pattern = re.compile(r'fellow')\n",
        "matches = pattern.findall(first_string)\n",
        "for match in matches:\n",
        "    print(match)\n",
        "\n",
        "print()"
      ],
      "metadata": {
        "colab": {
          "base_uri": "https://localhost:8080/"
        },
        "id": "xiNBFTEmlJMk",
        "outputId": "c756bdcd-118f-4f3b-8ab5-945806b3ee89"
      },
      "execution_count": null,
      "outputs": [
        {
          "output_type": "stream",
          "name": "stdout",
          "text": [
            "fellow\n",
            "\n"
          ]
        }
      ]
    },
    {
      "cell_type": "code",
      "source": [
        "# match()\n",
        "match = pattern.match(first_string)\n",
        "print(match)\n",
        "pattern = re.compile(r'fellow')\n",
        "match = pattern.match(first_string)\n",
        "print(match)\n",
        "\n",
        "print()"
      ],
      "metadata": {
        "colab": {
          "base_uri": "https://localhost:8080/"
        },
        "id": "-JmUiEIelpB1",
        "outputId": "54a7b904-4bf8-4a58-dbc9-09078844d076"
      },
      "execution_count": null,
      "outputs": [
        {
          "output_type": "stream",
          "name": "stdout",
          "text": [
            "None\n",
            "None\n",
            "\n"
          ]
        }
      ]
    },
    {
      "cell_type": "code",
      "source": [
        "# search()\n",
        "match = pattern.search(first_string)\n",
        "print(match)"
      ],
      "metadata": {
        "colab": {
          "base_uri": "https://localhost:8080/"
        },
        "id": "S1pvnqjAl4LU",
        "outputId": "27c9905a-36c9-42a7-e7ea-fadb31240bf2"
      },
      "execution_count": null,
      "outputs": [
        {
          "output_type": "stream",
          "name": "stdout",
          "text": [
            "<re.Match object; span=(3, 9), match='fellow'>\n"
          ]
        }
      ]
    },
    {
      "cell_type": "markdown",
      "source": [
        "**Note:** Methods can also be used on the re module directly. Although it makes little difference, some people prefer explicitly precompiling and binding the pattern to a reusable variable."
      ],
      "metadata": {
        "id": "_qL5H1Kfmbou"
      }
    },
    {
      "cell_type": "markdown",
      "source": [
        "## Methods on a Match object\n",
        "\n",
        "\n",
        "1.   group(): Return the string matched by the RE\n",
        "2. start(): Return the starting position of the match\n",
        "3. end(): Return the ending position of the match\n",
        "4. span(): Return a tuple containing the (start, end) positions of the match\n"
      ],
      "metadata": {
        "id": "DPVur-Csm6wY"
      }
    },
    {
      "cell_type": "code",
      "source": [
        "test_string = '123abc456789abc123ABC'\n",
        "pattern = re.compile(r'abc')\n",
        "matches = pattern.finditer(test_string)\n",
        "for match in matches:\n",
        "    print(match)\n",
        "    print(match.span(), match.start(), match.end())\n",
        "    print(match.group()) # returns the substring that was matched by the RE"
      ],
      "metadata": {
        "id": "0l5ag4YTmBW3"
      },
      "execution_count": null,
      "outputs": []
    },
    {
      "cell_type": "markdown",
      "source": [
        "## In class Practicals\n",
        "Write regex for \n",
        "1. finding rwandan phone numbers example of format (+250712345678)\n",
        "2. Finding emails addresses in a corpus\n",
        "3. Find the urls in a corpus"
      ],
      "metadata": {
        "id": "8gKNGpeSgIo3"
      }
    },
    {
      "cell_type": "markdown",
      "source": [
        "## Assignment\n",
        "From the text extracted from yesterday's parliamentary proceedings, remove the urls, emails and all the sentences closed with ()"
      ],
      "metadata": {
        "id": "-h1cNaNKhD_7"
      }
    }
  ]
}