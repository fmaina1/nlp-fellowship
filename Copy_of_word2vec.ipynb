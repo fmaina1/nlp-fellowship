{
  "cells": [
    {
      "cell_type": "markdown",
      "metadata": {
        "id": "view-in-github",
        "colab_type": "text"
      },
      "source": [
        "<a href=\"https://colab.research.google.com/github/fmaina1/nlp-fellowship/blob/main/Copy_of_word2vec.ipynb\" target=\"_parent\"><img src=\"https://colab.research.google.com/assets/colab-badge.svg\" alt=\"Open In Colab\"/></a>"
      ]
    },
    {
      "cell_type": "code",
      "execution_count": null,
      "metadata": {
        "id": "XYy6D3f268bL"
      },
      "outputs": [],
      "source": [
        "from google import colab\n",
        "colab.drive.mount('/content/gdrive')"
      ]
    },
    {
      "cell_type": "code",
      "execution_count": null,
      "metadata": {
        "id": "1z2v-PW3EC4C"
      },
      "outputs": [],
      "source": [
        "import os \n",
        "import re,io\n",
        "import pandas as pd\n",
        "\n",
        "path = '/content/gdrive/MyDrive/NLP_Fellowship_2022/Notebooks/Week 3/data/' # specify your directory where you want to create a folder for storing data.\n",
        "\n",
        "os.chdir(path ) # change directory"
      ]
    },
    {
      "cell_type": "code",
      "source": [
        "dataset = pd.read_csv('IMDB Dataset.csv')\n",
        "dataset.head(100)"
      ],
      "metadata": {
        "id": "nVCuIrEGsyhr"
      },
      "execution_count": null,
      "outputs": []
    },
    {
      "cell_type": "code",
      "source": [
        "english_text = list(set(dataset['review']))\n",
        "english_text = english_text[:10000] # add more reviews\n",
        "print(len(english_text))"
      ],
      "metadata": {
        "id": "PfSfsADLs-Db"
      },
      "execution_count": null,
      "outputs": []
    },
    {
      "cell_type": "code",
      "execution_count": null,
      "metadata": {
        "id": "5uiZluOFEOmP"
      },
      "outputs": [],
      "source": [
        "import re\n",
        "def preprocess(text):\n",
        "    text = text.lower()\n",
        "    emoji_pattern = re.compile(\"[\"\n",
        "                               u\"\\U0001F600-\\U0001F64F\"  # emoticons\n",
        "                               u\"\\U0001F300-\\U0001F5FF\"  # symbols & pictographs\n",
        "                               u\"\\U0001F680-\\U0001F6FF\"  # transport & map symbols\n",
        "                               u\"\\U0001F1E0-\\U0001F1FF\"  # flags (iOS)\n",
        "                               u\"\\U00002702-\\U000027B0\"\n",
        "                               u\"\\U000024C2-\\U0001F251\"\n",
        "                               \"]+\", flags=re.UNICODE)\n",
        "    url_pattern = re.compile(r'https?://\\S+|www\\.\\S+')\n",
        "    html_pattern = re.compile('<.*?>')\n",
        "    text = emoji_pattern.sub(r'', text)\n",
        "    text = url_pattern.sub(r'', text)\n",
        "    text = html_pattern.sub(r'', text)\n",
        "    text = re.sub(r\"[^\\w\\d'\\s]+\", ' ', text)\n",
        "\n",
        "    return text"
      ]
    },
    {
      "cell_type": "code",
      "execution_count": null,
      "metadata": {
        "id": "7WBqBjCyEZTK"
      },
      "outputs": [],
      "source": []
    },
    {
      "cell_type": "code",
      "source": [
        "def cleanText(input_text,outputfile):\n",
        "  \n",
        "  outfile = open(outputfile,\"w\")\n",
        "\n",
        "  for x in input_text:\n",
        "    if len(x.strip()) != 0:\n",
        "      x = preprocess(x)\n",
        "      #x = x.encode('ascii', 'ignore')\n",
        "      outfile.write(x+'\\n')\n",
        "  outfile.close()"
      ],
      "metadata": {
        "id": "NeCjvHqRuJXy"
      },
      "execution_count": null,
      "outputs": []
    },
    {
      "cell_type": "code",
      "execution_count": null,
      "metadata": {
        "id": "6BLEjUZdEhZ2"
      },
      "outputs": [],
      "source": [
        "cleanText(english_text,'text.txt')"
      ]
    },
    {
      "cell_type": "code",
      "source": [
        "!pip install fasttext"
      ],
      "metadata": {
        "id": "szVUD5ciKYp-"
      },
      "execution_count": null,
      "outputs": []
    },
    {
      "cell_type": "code",
      "source": [
        "import fasttext"
      ],
      "metadata": {
        "id": "x1rZKrDDKv-P"
      },
      "execution_count": null,
      "outputs": []
    },
    {
      "cell_type": "code",
      "execution_count": null,
      "metadata": {
        "id": "0MErVkPmEqoo"
      },
      "outputs": [],
      "source": [
        "model = fasttext.train_unsupervised('text.txt', minn=2, maxn=5, dim=100) # Alter the parameters"
      ]
    },
    {
      "cell_type": "code",
      "source": [
        "model.save_model(\"model.bin\")"
      ],
      "metadata": {
        "id": "EHuHUKhPMv9Q"
      },
      "execution_count": null,
      "outputs": []
    },
    {
      "cell_type": "code",
      "source": [
        "# [model.get_word_vector(x) for x in [\"california\", \"los angeles\", \"brazil\"]]\n",
        "model.get_word_vector('brazil')"
      ],
      "metadata": {
        "id": "XW7cc84IIW1s"
      },
      "execution_count": null,
      "outputs": []
    },
    {
      "cell_type": "code",
      "source": [
        "model.get_nearest_neighbors('rwanda')"
      ],
      "metadata": {
        "id": "e80A2S1pxBpe"
      },
      "execution_count": null,
      "outputs": []
    },
    {
      "cell_type": "code",
      "source": [
        "model.get_analogies(\"josephine\", \"woman\", \"man\")"
      ],
      "metadata": {
        "id": "84WGnR2hzt-3"
      },
      "execution_count": null,
      "outputs": []
    },
    {
      "cell_type": "code",
      "source": [
        "model_cbow = fasttext.train_unsupervised('text.txt', model='cbow')"
      ],
      "metadata": {
        "id": "Yj3jXFmE2weU"
      },
      "execution_count": null,
      "outputs": []
    },
    {
      "cell_type": "code",
      "source": [
        "model_cbow=fasttext.load_model(\"model_cbow.bin\")"
      ],
      "metadata": {
        "id": "VrSsJaAA3ci_"
      },
      "execution_count": null,
      "outputs": []
    },
    {
      "cell_type": "code",
      "source": [
        "model_cbow.get_nearest_neighbors('accomodation')"
      ],
      "metadata": {
        "id": "25Wq0GDf3g9p"
      },
      "execution_count": null,
      "outputs": []
    },
    {
      "cell_type": "code",
      "source": [
        "model_cbow.get_nearest_neighbors('accomodation')"
      ],
      "metadata": {
        "id": "U62iKBGV31Ms"
      },
      "execution_count": null,
      "outputs": []
    },
    {
      "cell_type": "code",
      "source": [
        "model_cbow.get_analogies(\"josephine\", \"woman\", \"man\")"
      ],
      "metadata": {
        "id": "N4EE-bhA3o6R"
      },
      "execution_count": null,
      "outputs": []
    },
    {
      "cell_type": "code",
      "source": [
        "!ls"
      ],
      "metadata": {
        "id": "RjcOUmw785Mb"
      },
      "execution_count": null,
      "outputs": []
    },
    {
      "cell_type": "markdown",
      "source": [
        "# In-class practicals\n",
        "Run the code by yourself. Make sure you alter the dimensions to 150 and also add more reviews\n"
      ],
      "metadata": {
        "id": "QwJUjk4k6OjT"
      }
    },
    {
      "cell_type": "markdown",
      "source": [
        "# Assignment\n",
        "With the same code, train a model with the following Kinyarwanda dataset:\n",
        "\n",
        "\n",
        "\n",
        "```\n",
        "!pip install datasets\n",
        "data_rw = load_dataset(\"kinnews_kirnews\", \"kinnews_raw\")\n",
        "dataframe_rw = pd.DataFrame(data_rw['train']['content'],columns=['sentence'])\n",
        "```\n",
        "\n",
        "\n"
      ],
      "metadata": {
        "id": "0PByv50LvwMS"
      }
    },
    {
      "cell_type": "code",
      "source": [],
      "metadata": {
        "id": "Erl0o5R61Mqa"
      },
      "execution_count": null,
      "outputs": []
    }
  ],
  "metadata": {
    "colab": {
      "collapsed_sections": [],
      "provenance": [],
      "include_colab_link": true
    },
    "kernelspec": {
      "display_name": "Python 3",
      "name": "python3"
    },
    "language_info": {
      "name": "python"
    }
  },
  "nbformat": 4,
  "nbformat_minor": 0
}