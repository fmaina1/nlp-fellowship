{
  "nbformat": 4,
  "nbformat_minor": 0,
  "metadata": {
    "colab": {
      "provenance": [],
      "collapsed_sections": [],
      "include_colab_link": true
    },
    "kernelspec": {
      "name": "python3",
      "display_name": "Python 3"
    },
    "language_info": {
      "name": "python"
    }
  },
  "cells": [
    {
      "cell_type": "markdown",
      "metadata": {
        "id": "view-in-github",
        "colab_type": "text"
      },
      "source": [
        "<a href=\"https://colab.research.google.com/github/fmaina1/nlp-fellowship/blob/main/Copy_of_Copy_of_Word_and_PDF_Day3.ipynb\" target=\"_parent\"><img src=\"https://colab.research.google.com/assets/colab-badge.svg\" alt=\"Open In Colab\"/></a>"
      ]
    },
    {
      "cell_type": "markdown",
      "source": [
        "# Working with Word Documents and PDFs\n",
        "\n",
        "In the African continent, most documents are in word or PDF. For the data in the documents to be processed and used in AI, they need to be extracted. To do this, the data will be extracted to txt format.\n",
        "\n"
      ],
      "metadata": {
        "id": "-1LUjCesZBKQ"
      }
    },
    {
      "cell_type": "markdown",
      "source": [
        "## Package\n",
        "The package to be used in textract.\n",
        "\n",
        "To install the package, use the commands below\n",
        "\n",
        "\n",
        "\n",
        "```\n",
        "apt-get install python-dev libxml2-dev libxslt1-dev antiword unrtf poppler-utils pstotext tesseract-ocr \\\n",
        "flac ffmpeg lame libmad0 libsox-fmt-mp3 sox libjpeg-dev swig\n",
        "\n",
        "pip install textract\n",
        "```\n",
        "\n",
        "The package supports a lot of formats including but not limmited:\n",
        "\n",
        "csv, doc, docx, epub,json, html,pdf, jpg, pptx, xls, xlsx, ogg \n",
        "\n"
      ],
      "metadata": {
        "id": "YhWTdFi4ebY8"
      }
    },
    {
      "cell_type": "code",
      "source": [
        "!pip install textract"
      ],
      "metadata": {
        "id": "rTyZY41XgWwl",
        "colab": {
          "base_uri": "https://localhost:8080/"
        },
        "outputId": "551d7a9a-b7bf-4d01-b41d-e7d2e0a32b93"
      },
      "execution_count": 38,
      "outputs": [
        {
          "output_type": "stream",
          "name": "stdout",
          "text": [
            "Looking in indexes: https://pypi.org/simple, https://us-python.pkg.dev/colab-wheels/public/simple/\n",
            "Requirement already satisfied: textract in /usr/local/lib/python3.7/dist-packages (1.6.5)\n",
            "Requirement already satisfied: argcomplete~=1.10.0 in /usr/local/lib/python3.7/dist-packages (from textract) (1.10.3)\n",
            "Requirement already satisfied: xlrd~=1.2.0 in /usr/local/lib/python3.7/dist-packages (from textract) (1.2.0)\n",
            "Requirement already satisfied: SpeechRecognition~=3.8.1 in /usr/local/lib/python3.7/dist-packages (from textract) (3.8.1)\n",
            "Requirement already satisfied: docx2txt~=0.8 in /usr/local/lib/python3.7/dist-packages (from textract) (0.8)\n",
            "Requirement already satisfied: beautifulsoup4~=4.8.0 in /usr/local/lib/python3.7/dist-packages (from textract) (4.8.2)\n",
            "Requirement already satisfied: extract-msg<=0.29.* in /usr/local/lib/python3.7/dist-packages (from textract) (0.28.7)\n",
            "Requirement already satisfied: pdfminer.six==20191110 in /usr/local/lib/python3.7/dist-packages (from textract) (20191110)\n",
            "Requirement already satisfied: chardet==3.* in /usr/local/lib/python3.7/dist-packages (from textract) (3.0.4)\n",
            "Requirement already satisfied: six~=1.12.0 in /usr/local/lib/python3.7/dist-packages (from textract) (1.12.0)\n",
            "Requirement already satisfied: python-pptx~=0.6.18 in /usr/local/lib/python3.7/dist-packages (from textract) (0.6.21)\n",
            "Requirement already satisfied: pycryptodome in /usr/local/lib/python3.7/dist-packages (from pdfminer.six==20191110->textract) (3.15.0)\n",
            "Requirement already satisfied: sortedcontainers in /usr/local/lib/python3.7/dist-packages (from pdfminer.six==20191110->textract) (2.4.0)\n",
            "Requirement already satisfied: soupsieve>=1.2 in /usr/local/lib/python3.7/dist-packages (from beautifulsoup4~=4.8.0->textract) (2.3.2.post1)\n",
            "Requirement already satisfied: compressed-rtf>=1.0.6 in /usr/local/lib/python3.7/dist-packages (from extract-msg<=0.29.*->textract) (1.0.6)\n",
            "Requirement already satisfied: ebcdic>=1.1.1 in /usr/local/lib/python3.7/dist-packages (from extract-msg<=0.29.*->textract) (1.1.1)\n",
            "Requirement already satisfied: olefile>=0.46 in /usr/local/lib/python3.7/dist-packages (from extract-msg<=0.29.*->textract) (0.46)\n",
            "Requirement already satisfied: tzlocal>=2.1 in /usr/local/lib/python3.7/dist-packages (from extract-msg<=0.29.*->textract) (4.2)\n",
            "Requirement already satisfied: imapclient==2.1.0 in /usr/local/lib/python3.7/dist-packages (from extract-msg<=0.29.*->textract) (2.1.0)\n",
            "Requirement already satisfied: Pillow>=3.3.2 in /usr/local/lib/python3.7/dist-packages (from python-pptx~=0.6.18->textract) (7.1.2)\n",
            "Requirement already satisfied: lxml>=3.1.0 in /usr/local/lib/python3.7/dist-packages (from python-pptx~=0.6.18->textract) (4.9.1)\n",
            "Requirement already satisfied: XlsxWriter>=0.5.7 in /usr/local/lib/python3.7/dist-packages (from python-pptx~=0.6.18->textract) (3.0.3)\n",
            "Requirement already satisfied: backports.zoneinfo in /usr/local/lib/python3.7/dist-packages (from tzlocal>=2.1->extract-msg<=0.29.*->textract) (0.2.1)\n",
            "Requirement already satisfied: pytz-deprecation-shim in /usr/local/lib/python3.7/dist-packages (from tzlocal>=2.1->extract-msg<=0.29.*->textract) (0.1.0.post0)\n",
            "Requirement already satisfied: tzdata in /usr/local/lib/python3.7/dist-packages (from pytz-deprecation-shim->tzlocal>=2.1->extract-msg<=0.29.*->textract) (2022.5)\n"
          ]
        }
      ]
    },
    {
      "cell_type": "code",
      "source": [
        "!pip install pypdf2"
      ],
      "metadata": {
        "colab": {
          "base_uri": "https://localhost:8080/"
        },
        "id": "zRqsPyv-kOrn",
        "outputId": "f9e517d5-6915-4ae3-c9cd-d7effd4d9bc7"
      },
      "execution_count": 39,
      "outputs": [
        {
          "output_type": "stream",
          "name": "stdout",
          "text": [
            "Looking in indexes: https://pypi.org/simple, https://us-python.pkg.dev/colab-wheels/public/simple/\n",
            "Requirement already satisfied: pypdf2 in /usr/local/lib/python3.7/dist-packages (2.11.1)\n",
            "Requirement already satisfied: typing-extensions>=3.10.0.0 in /usr/local/lib/python3.7/dist-packages (from pypdf2) (4.1.1)\n"
          ]
        }
      ]
    },
    {
      "cell_type": "code",
      "execution_count": 40,
      "metadata": {
        "id": "Rx5KhiWzQVRQ"
      },
      "outputs": [],
      "source": [
        "import textract\n",
        "import glob\n",
        "import PyPDF2 as pd2\n",
        "import os"
      ]
    },
    {
      "cell_type": "markdown",
      "source": [
        "We wil first mount the google drive. This will give us acces to my drive folder where we can find files"
      ],
      "metadata": {
        "id": "4n65qBvfljQb"
      }
    },
    {
      "cell_type": "code",
      "source": [
        "from google.colab import drive\n",
        "drive.mount('/content/drive')"
      ],
      "metadata": {
        "colab": {
          "base_uri": "https://localhost:8080/"
        },
        "id": "8BKGVFNton6K",
        "outputId": "9f6cc0fb-174c-4bfc-9ede-91f60eb76807"
      },
      "execution_count": 41,
      "outputs": [
        {
          "output_type": "stream",
          "name": "stdout",
          "text": [
            "Drive already mounted at /content/drive; to attempt to forcibly remount, call drive.mount(\"/content/drive\", force_remount=True).\n"
          ]
        }
      ]
    },
    {
      "cell_type": "markdown",
      "source": [
        "# New Section"
      ],
      "metadata": {
        "id": "gnlsJKoRIaEl"
      }
    },
    {
      "cell_type": "code",
      "source": [],
      "metadata": {
        "id": "roNN0ACF7LS9"
      },
      "execution_count": 41,
      "outputs": []
    },
    {
      "cell_type": "code",
      "source": [
        "#Scan this path!'\n",
        "path = '/content/drive/MyDrive/NLP_Fellowship_2022/Notebooks/Week 1/data'\n",
        "os.chdir(path)\n",
        "!ls"
      ],
      "metadata": {
        "id": "62GwKNxqAmnJ",
        "colab": {
          "base_uri": "https://localhost:8080/"
        },
        "outputId": "c22dcbcc-eae2-42c1-8d28-5efef0232aef"
      },
      "execution_count": 42,
      "outputs": [
        {
          "output_type": "stream",
          "name": "stdout",
          "text": [
            " BANANA-BREAD.pdf\t'Eng_Kin-Paralleldata (1).csv'\n",
            " COVID-19_English.docx\t'Hansard Report - Thursday, 13th October 2022 (P).pdf'\n",
            " document.xml\t\t text\n"
          ]
        }
      ]
    },
    {
      "cell_type": "code",
      "source": [],
      "metadata": {
        "id": "eAxTml6962hO"
      },
      "execution_count": 42,
      "outputs": []
    },
    {
      "cell_type": "code",
      "source": [
        "doc_dir"
      ],
      "metadata": {
        "colab": {
          "base_uri": "https://localhost:8080/"
        },
        "id": "m_YLmDmprtaq",
        "outputId": "44c31275-361b-4682-968c-d63eca00e701"
      },
      "execution_count": 43,
      "outputs": [
        {
          "output_type": "execute_result",
          "data": {
            "text/plain": [
              "[]"
            ]
          },
          "metadata": {},
          "execution_count": 43
        }
      ]
    },
    {
      "cell_type": "code",
      "source": [
        "file = pd2.PdfFileReader('Hansard Report - Thursday, 13th October 2022 (P).pdf')"
      ],
      "metadata": {
        "id": "eCwpxG9UsUq_"
      },
      "execution_count": 44,
      "outputs": []
    },
    {
      "cell_type": "code",
      "source": [
        "file.getNumPages()"
      ],
      "metadata": {
        "colab": {
          "base_uri": "https://localhost:8080/"
        },
        "id": "gcnkwK2puE-W",
        "outputId": "e15e0c45-3fc1-4261-d807-36e010400284"
      },
      "execution_count": 45,
      "outputs": [
        {
          "output_type": "execute_result",
          "data": {
            "text/plain": [
              "67"
            ]
          },
          "metadata": {},
          "execution_count": 45
        }
      ]
    },
    {
      "cell_type": "code",
      "source": [
        "file.getPage(0)"
      ],
      "metadata": {
        "id": "SzTn1H8DuYm0",
        "colab": {
          "base_uri": "https://localhost:8080/"
        },
        "outputId": "076ed4d7-b85d-45c6-964f-b32484c6f809"
      },
      "execution_count": 46,
      "outputs": [
        {
          "output_type": "execute_result",
          "data": {
            "text/plain": [
              "{'/Type': '/Page',\n",
              " '/Parent': {'/Type': '/Pages',\n",
              "  '/Count': 67,\n",
              "  '/Kids': [IndirectObject(3, 0, 140448045083408),\n",
              "   IndirectObject(13, 0, 140448045083408),\n",
              "   IndirectObject(29, 0, 140448045083408),\n",
              "   IndirectObject(36, 0, 140448045083408),\n",
              "   IndirectObject(40, 0, 140448045083408),\n",
              "   IndirectObject(42, 0, 140448045083408),\n",
              "   IndirectObject(44, 0, 140448045083408),\n",
              "   IndirectObject(46, 0, 140448045083408),\n",
              "   IndirectObject(48, 0, 140448045083408),\n",
              "   IndirectObject(50, 0, 140448045083408),\n",
              "   IndirectObject(52, 0, 140448045083408),\n",
              "   IndirectObject(54, 0, 140448045083408),\n",
              "   IndirectObject(56, 0, 140448045083408),\n",
              "   IndirectObject(58, 0, 140448045083408),\n",
              "   IndirectObject(60, 0, 140448045083408),\n",
              "   IndirectObject(62, 0, 140448045083408),\n",
              "   IndirectObject(64, 0, 140448045083408),\n",
              "   IndirectObject(66, 0, 140448045083408),\n",
              "   IndirectObject(68, 0, 140448045083408),\n",
              "   IndirectObject(70, 0, 140448045083408),\n",
              "   IndirectObject(72, 0, 140448045083408),\n",
              "   IndirectObject(74, 0, 140448045083408),\n",
              "   IndirectObject(76, 0, 140448045083408),\n",
              "   IndirectObject(78, 0, 140448045083408),\n",
              "   IndirectObject(80, 0, 140448045083408),\n",
              "   IndirectObject(82, 0, 140448045083408),\n",
              "   IndirectObject(84, 0, 140448045083408),\n",
              "   IndirectObject(86, 0, 140448045083408),\n",
              "   IndirectObject(88, 0, 140448045083408),\n",
              "   IndirectObject(90, 0, 140448045083408),\n",
              "   IndirectObject(92, 0, 140448045083408),\n",
              "   IndirectObject(94, 0, 140448045083408),\n",
              "   IndirectObject(96, 0, 140448045083408),\n",
              "   IndirectObject(98, 0, 140448045083408),\n",
              "   IndirectObject(100, 0, 140448045083408),\n",
              "   IndirectObject(102, 0, 140448045083408),\n",
              "   IndirectObject(104, 0, 140448045083408),\n",
              "   IndirectObject(106, 0, 140448045083408),\n",
              "   IndirectObject(108, 0, 140448045083408),\n",
              "   IndirectObject(110, 0, 140448045083408),\n",
              "   IndirectObject(112, 0, 140448045083408),\n",
              "   IndirectObject(114, 0, 140448045083408),\n",
              "   IndirectObject(116, 0, 140448045083408),\n",
              "   IndirectObject(118, 0, 140448045083408),\n",
              "   IndirectObject(120, 0, 140448045083408),\n",
              "   IndirectObject(122, 0, 140448045083408),\n",
              "   IndirectObject(124, 0, 140448045083408),\n",
              "   IndirectObject(126, 0, 140448045083408),\n",
              "   IndirectObject(128, 0, 140448045083408),\n",
              "   IndirectObject(130, 0, 140448045083408),\n",
              "   IndirectObject(132, 0, 140448045083408),\n",
              "   IndirectObject(134, 0, 140448045083408),\n",
              "   IndirectObject(136, 0, 140448045083408),\n",
              "   IndirectObject(138, 0, 140448045083408),\n",
              "   IndirectObject(140, 0, 140448045083408),\n",
              "   IndirectObject(142, 0, 140448045083408),\n",
              "   IndirectObject(144, 0, 140448045083408),\n",
              "   IndirectObject(146, 0, 140448045083408),\n",
              "   IndirectObject(148, 0, 140448045083408),\n",
              "   IndirectObject(150, 0, 140448045083408),\n",
              "   IndirectObject(152, 0, 140448045083408),\n",
              "   IndirectObject(154, 0, 140448045083408),\n",
              "   IndirectObject(156, 0, 140448045083408),\n",
              "   IndirectObject(158, 0, 140448045083408),\n",
              "   IndirectObject(160, 0, 140448045083408),\n",
              "   IndirectObject(162, 0, 140448045083408),\n",
              "   IndirectObject(164, 0, 140448045083408)]},\n",
              " '/Resources': {'/ExtGState': {'/GS5': {'/Type': '/ExtGState',\n",
              "    '/BM': '/Normal',\n",
              "    '/ca': 1},\n",
              "   '/GS6': {'/Type': '/ExtGState', '/BM': '/Normal', '/CA': 1}},\n",
              "  '/Font': {'/F1': {'/Type': '/Font',\n",
              "    '/Subtype': '/TrueType',\n",
              "    '/Name': '/F1',\n",
              "    '/BaseFont': '/TimesNewRomanPS-BoldMT',\n",
              "    '/Encoding': '/WinAnsiEncoding',\n",
              "    '/FontDescriptor': {'/Type': '/FontDescriptor',\n",
              "     '/FontName': '/TimesNewRomanPS-BoldMT',\n",
              "     '/Flags': 32,\n",
              "     '/ItalicAngle': 0,\n",
              "     '/Ascent': 891,\n",
              "     '/Descent': -216,\n",
              "     '/CapHeight': 677,\n",
              "     '/AvgWidth': 427,\n",
              "     '/MaxWidth': 2558,\n",
              "     '/FontWeight': 700,\n",
              "     '/XHeight': 250,\n",
              "     '/Leading': 42,\n",
              "     '/StemV': 42,\n",
              "     '/FontBBox': [-558, -216, 2000, 677]},\n",
              "    '/FirstChar': 32,\n",
              "    '/LastChar': 122,\n",
              "    '/Widths': [250,\n",
              "     0,\n",
              "     0,\n",
              "     0,\n",
              "     0,\n",
              "     0,\n",
              "     0,\n",
              "     278,\n",
              "     333,\n",
              "     333,\n",
              "     0,\n",
              "     0,\n",
              "     250,\n",
              "     333,\n",
              "     250,\n",
              "     0,\n",
              "     500,\n",
              "     500,\n",
              "     500,\n",
              "     500,\n",
              "     500,\n",
              "     500,\n",
              "     500,\n",
              "     500,\n",
              "     500,\n",
              "     500,\n",
              "     333,\n",
              "     0,\n",
              "     0,\n",
              "     0,\n",
              "     0,\n",
              "     0,\n",
              "     0,\n",
              "     722,\n",
              "     667,\n",
              "     722,\n",
              "     722,\n",
              "     667,\n",
              "     611,\n",
              "     778,\n",
              "     778,\n",
              "     389,\n",
              "     500,\n",
              "     778,\n",
              "     667,\n",
              "     944,\n",
              "     722,\n",
              "     778,\n",
              "     611,\n",
              "     0,\n",
              "     722,\n",
              "     556,\n",
              "     667,\n",
              "     722,\n",
              "     722,\n",
              "     1000,\n",
              "     0,\n",
              "     722,\n",
              "     0,\n",
              "     0,\n",
              "     0,\n",
              "     0,\n",
              "     0,\n",
              "     0,\n",
              "     0,\n",
              "     500,\n",
              "     556,\n",
              "     444,\n",
              "     556,\n",
              "     444,\n",
              "     333,\n",
              "     500,\n",
              "     556,\n",
              "     278,\n",
              "     333,\n",
              "     556,\n",
              "     278,\n",
              "     833,\n",
              "     556,\n",
              "     500,\n",
              "     556,\n",
              "     556,\n",
              "     444,\n",
              "     389,\n",
              "     333,\n",
              "     556,\n",
              "     0,\n",
              "     722,\n",
              "     0,\n",
              "     500,\n",
              "     444]},\n",
              "   '/F2': {'/Type': '/Font',\n",
              "    '/Subtype': '/TrueType',\n",
              "    '/Name': '/F2',\n",
              "    '/BaseFont': '/TimesNewRomanPSMT',\n",
              "    '/Encoding': '/WinAnsiEncoding',\n",
              "    '/FontDescriptor': {'/Type': '/FontDescriptor',\n",
              "     '/FontName': '/TimesNewRomanPSMT',\n",
              "     '/Flags': 32,\n",
              "     '/ItalicAngle': 0,\n",
              "     '/Ascent': 891,\n",
              "     '/Descent': -216,\n",
              "     '/CapHeight': 693,\n",
              "     '/AvgWidth': 401,\n",
              "     '/MaxWidth': 2614,\n",
              "     '/FontWeight': 400,\n",
              "     '/XHeight': 250,\n",
              "     '/Leading': 42,\n",
              "     '/StemV': 40,\n",
              "     '/FontBBox': [-568, -216, 2046, 693]},\n",
              "    '/FirstChar': 32,\n",
              "    '/LastChar': 122,\n",
              "    '/Widths': [250,\n",
              "     333,\n",
              "     0,\n",
              "     0,\n",
              "     0,\n",
              "     0,\n",
              "     0,\n",
              "     180,\n",
              "     333,\n",
              "     333,\n",
              "     0,\n",
              "     564,\n",
              "     250,\n",
              "     333,\n",
              "     250,\n",
              "     278,\n",
              "     500,\n",
              "     500,\n",
              "     500,\n",
              "     500,\n",
              "     500,\n",
              "     500,\n",
              "     500,\n",
              "     500,\n",
              "     500,\n",
              "     500,\n",
              "     278,\n",
              "     278,\n",
              "     0,\n",
              "     0,\n",
              "     0,\n",
              "     444,\n",
              "     0,\n",
              "     722,\n",
              "     667,\n",
              "     667,\n",
              "     722,\n",
              "     611,\n",
              "     556,\n",
              "     722,\n",
              "     722,\n",
              "     333,\n",
              "     389,\n",
              "     722,\n",
              "     611,\n",
              "     889,\n",
              "     722,\n",
              "     722,\n",
              "     556,\n",
              "     722,\n",
              "     667,\n",
              "     556,\n",
              "     611,\n",
              "     722,\n",
              "     722,\n",
              "     944,\n",
              "     722,\n",
              "     722,\n",
              "     611,\n",
              "     0,\n",
              "     0,\n",
              "     0,\n",
              "     0,\n",
              "     0,\n",
              "     0,\n",
              "     444,\n",
              "     500,\n",
              "     444,\n",
              "     500,\n",
              "     444,\n",
              "     333,\n",
              "     500,\n",
              "     500,\n",
              "     278,\n",
              "     278,\n",
              "     500,\n",
              "     278,\n",
              "     778,\n",
              "     500,\n",
              "     500,\n",
              "     500,\n",
              "     500,\n",
              "     333,\n",
              "     389,\n",
              "     278,\n",
              "     500,\n",
              "     500,\n",
              "     722,\n",
              "     500,\n",
              "     500,\n",
              "     444]}},\n",
              "  '/XObject': {'/Image11': {'/Type': '/XObject',\n",
              "    '/Subtype': '/Image',\n",
              "    '/Width': 223,\n",
              "    '/Height': 210,\n",
              "    '/ColorSpace': '/DeviceRGB',\n",
              "    '/BitsPerComponent': 8,\n",
              "    '/Filter': '/DCTDecode',\n",
              "    '/Interpolate': True,\n",
              "    '/SMask': {'/Type': '/XObject',\n",
              "     '/Subtype': '/Image',\n",
              "     '/Width': 223,\n",
              "     '/Height': 210,\n",
              "     '/ColorSpace': '/DeviceGray',\n",
              "     '/Matte': [0, 0, 0],\n",
              "     '/BitsPerComponent': 8,\n",
              "     '/Interpolate': False,\n",
              "     '/Filter': '/FlateDecode'}}},\n",
              "  '/ProcSet': ['/PDF', '/Text', '/ImageB', '/ImageC', '/ImageI']},\n",
              " '/MediaBox': [0, 0, 595.32, 841.92],\n",
              " '/Contents': {'/Filter': '/FlateDecode'},\n",
              " '/Group': {'/Type': '/Group', '/S': '/Transparency', '/CS': '/DeviceRGB'},\n",
              " '/Tabs': '/S',\n",
              " '/StructParents': 0}"
            ]
          },
          "metadata": {},
          "execution_count": 46
        }
      ]
    },
    {
      "cell_type": "code",
      "source": [
        "def drop_pages(path, page_remove):\n",
        "  file_original = pd2.PdfFileReader(path)    #Open the Original file containing all the pages\n",
        "  last_page = file_original.getNumPages()-1\n",
        "  file_new = pd2.PdfFileWriter()\n",
        "  #page_remove = [1,4,6,7]\n",
        "  for page_number in range(1, last_page):\n",
        "    if page_number in page_remove:\n",
        "      pass\n",
        "    else:\n",
        "      page_content = file_original.getPage(page_number)\n",
        "      file_new.add_page(page_content)\n",
        "  return file_new\n"
      ],
      "metadata": {
        "id": "W5eLOl-ZsFTE"
      },
      "execution_count": 47,
      "outputs": []
    },
    {
      "cell_type": "code",
      "source": [
        "def drop_pages(path):\n",
        "  file_original = pd2.PdfFileReader(path)    #Open the Original file containing all the pages\n",
        "  last_page = file_original.getNumPages()-1\n",
        "  file_new = pd2.PdfFileWriter()\n",
        "  for page_number in range(1, last_page):\n",
        "    page_content = file_original.getPage(page_number)\n",
        "    file_new.add_page(page_content)\n",
        "  return file_new"
      ],
      "metadata": {
        "id": "S4vH1Z6Rx9L_"
      },
      "execution_count": 48,
      "outputs": []
    },
    {
      "cell_type": "code",
      "source": [
        "test = drop_pages('Hansard Report - Thursday, 13th October 2022 (P).pdf')"
      ],
      "metadata": {
        "id": "QHTJ2Dt5yLiT"
      },
      "execution_count": 49,
      "outputs": []
    },
    {
      "cell_type": "code",
      "source": [
        "test.getNumPages()"
      ],
      "metadata": {
        "colab": {
          "base_uri": "https://localhost:8080/"
        },
        "id": "UAssug-PyebU",
        "outputId": "a15f4d27-fd72-444f-a5b6-4c7f72473143"
      },
      "execution_count": 50,
      "outputs": [
        {
          "output_type": "execute_result",
          "data": {
            "text/plain": [
              "65"
            ]
          },
          "metadata": {},
          "execution_count": 50
        }
      ]
    },
    {
      "cell_type": "code",
      "source": [
        "#A funciton to save the file\n",
        "def save(name, file):\n",
        "  outputfilename = \"/content/temp/\" + name  #construct the path and filename\n",
        "  with open(outputfilename, 'wb') as output:\n",
        "    file.write(output)\n"
      ],
      "metadata": {
        "id": "UpWn_S7BytBW"
      },
      "execution_count": 51,
      "outputs": []
    },
    {
      "cell_type": "code",
      "source": [
        "save('Test_1.pdf', test)"
      ],
      "metadata": {
        "id": "1mAkd5NA0SLe"
      },
      "execution_count": 53,
      "outputs": []
    },
    {
      "cell_type": "code",
      "source": [
        "doc_dir"
      ],
      "metadata": {
        "colab": {
          "base_uri": "https://localhost:8080/"
        },
        "id": "m8PscHHI24qJ",
        "outputId": "840e7a4c-5af2-41e1-88e3-a5773518cb78"
      },
      "execution_count": 54,
      "outputs": [
        {
          "output_type": "execute_result",
          "data": {
            "text/plain": [
              "[]"
            ]
          },
          "metadata": {},
          "execution_count": 54
        }
      ]
    },
    {
      "cell_type": "code",
      "source": [
        "for obj  in doc_dir:\n",
        "  file_new = drop_pages(base_path + obj)\n",
        "  save(obj, file_new)"
      ],
      "metadata": {
        "id": "rethGIGd2e2h"
      },
      "execution_count": 55,
      "outputs": []
    }
  ]
}